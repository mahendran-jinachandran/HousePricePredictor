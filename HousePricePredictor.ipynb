{
 "cells": [
  {
   "cell_type": "code",
   "execution_count": 70,
   "metadata": {},
   "outputs": [],
   "source": [
    "import numpy as np\n",
    "import pandas as pd\n",
    "import copy"
   ]
  },
  {
   "cell_type": "code",
   "execution_count": 85,
   "metadata": {},
   "outputs": [],
   "source": [
    "def loadData():\n",
    "\n",
    "    # Assigning column headers to the CSV data for better readability, as they are not provided in the file\n",
    "    column_names = [\"Size(sqft)\", \"Number of Bedrooms\", \"Number of Floors\", \"Age of Home\", \"Price (1000s in dollars)\"]\n",
    "    data = pd.read_csv(\"houses.csv\",header=None,names= column_names)\n",
    "    display(data.head())\n",
    "    X_train = data.iloc[:, :4].values\n",
    "    y_train = data.iloc[:,4].values\n",
    "    return X_train, y_train\n"
   ]
  },
  {
   "cell_type": "code",
   "execution_count": 86,
   "metadata": {},
   "outputs": [
    {
     "data": {
      "text/html": [
       "<div>\n",
       "<style scoped>\n",
       "    .dataframe tbody tr th:only-of-type {\n",
       "        vertical-align: middle;\n",
       "    }\n",
       "\n",
       "    .dataframe tbody tr th {\n",
       "        vertical-align: top;\n",
       "    }\n",
       "\n",
       "    .dataframe thead th {\n",
       "        text-align: right;\n",
       "    }\n",
       "</style>\n",
       "<table border=\"1\" class=\"dataframe\">\n",
       "  <thead>\n",
       "    <tr style=\"text-align: right;\">\n",
       "      <th></th>\n",
       "      <th>Size(sqft)</th>\n",
       "      <th>Number of Bedrooms</th>\n",
       "      <th>Number of Floors</th>\n",
       "      <th>Age of Home</th>\n",
       "      <th>Price (1000s in dollars)</th>\n",
       "    </tr>\n",
       "  </thead>\n",
       "  <tbody>\n",
       "    <tr>\n",
       "      <th>0</th>\n",
       "      <td>952.0</td>\n",
       "      <td>2.0</td>\n",
       "      <td>1.0</td>\n",
       "      <td>65.0</td>\n",
       "      <td>271.5</td>\n",
       "    </tr>\n",
       "    <tr>\n",
       "      <th>1</th>\n",
       "      <td>1244.0</td>\n",
       "      <td>3.0</td>\n",
       "      <td>1.0</td>\n",
       "      <td>64.0</td>\n",
       "      <td>300.0</td>\n",
       "    </tr>\n",
       "    <tr>\n",
       "      <th>2</th>\n",
       "      <td>1947.0</td>\n",
       "      <td>3.0</td>\n",
       "      <td>2.0</td>\n",
       "      <td>17.0</td>\n",
       "      <td>509.8</td>\n",
       "    </tr>\n",
       "    <tr>\n",
       "      <th>3</th>\n",
       "      <td>1725.0</td>\n",
       "      <td>3.0</td>\n",
       "      <td>2.0</td>\n",
       "      <td>42.0</td>\n",
       "      <td>394.0</td>\n",
       "    </tr>\n",
       "    <tr>\n",
       "      <th>4</th>\n",
       "      <td>1959.0</td>\n",
       "      <td>3.0</td>\n",
       "      <td>2.0</td>\n",
       "      <td>15.0</td>\n",
       "      <td>540.0</td>\n",
       "    </tr>\n",
       "  </tbody>\n",
       "</table>\n",
       "</div>"
      ],
      "text/plain": [
       "   Size(sqft)  Number of Bedrooms  Number of Floors  Age of Home  \\\n",
       "0       952.0                 2.0               1.0         65.0   \n",
       "1      1244.0                 3.0               1.0         64.0   \n",
       "2      1947.0                 3.0               2.0         17.0   \n",
       "3      1725.0                 3.0               2.0         42.0   \n",
       "4      1959.0                 3.0               2.0         15.0   \n",
       "\n",
       "   Price (1000s in dollars)  \n",
       "0                     271.5  \n",
       "1                     300.0  \n",
       "2                     509.8  \n",
       "3                     394.0  \n",
       "4                     540.0  "
      ]
     },
     "metadata": {},
     "output_type": "display_data"
    }
   ],
   "source": [
    "X_train, y_train = loadData()"
   ]
  },
  {
   "cell_type": "markdown",
   "metadata": {},
   "source": [
    "Compute Gradient \n",
    "\n",
    "$$\n",
    "\\begin{align}\n",
    "\\frac{\\partial J(\\mathbf{w},b)}{\\partial w_j}  &= \\frac{1}{m} \\sum\\limits_{i = 0}^{m-1} (f_{\\mathbf{w},b}(\\mathbf{x}^{(i)}) - y^{(i)})x_{j}^{(i)} \\tag{6}  \\\\\n",
    "\\frac{\\partial J(\\mathbf{w},b)}{\\partial b}  &= \\frac{1}{m} \\sum\\limits_{i = 0}^{m-1} (f_{\\mathbf{w},b}(\\mathbf{x}^{(i)}) - y^{(i)}) \\tag{7}\n",
    "\\end{align}\n",
    "$$\n",
    "* m is the number of training examples in the data set\n",
    "\n",
    "    \n",
    "*  $f_{\\mathbf{w},b}(\\mathbf{x}^{(i)})$ is the model's prediction, while $y^{(i)}$ is the target value"
   ]
  },
  {
   "cell_type": "code",
   "execution_count": 73,
   "metadata": {},
   "outputs": [],
   "source": [
    "class LinearRegression():\n",
    "\n",
    "    def __init__(self):\n",
    "        self.initial_w = np.zeros(4)\n",
    "        self.initial_b = 0.\n",
    "\n",
    "    def __compute_gradient(self,X, y, w, b):\n",
    "\n",
    "        m,n = X.shape\n",
    "        dw = np.zeros((n,))\n",
    "        db = 0\n",
    "\n",
    "        for i in range(m):\n",
    "            sum = (np.dot(X[i], w) + b) - y[i]\n",
    "            for j in range(n):\n",
    "                dw[j] = sum * X[i, j] \n",
    "            db = db + sum\n",
    "        dw = dw / m\n",
    "        db = db / m\n",
    "\n",
    "        return dw, db\n",
    "    \n",
    "    def __perform_gradient_descent(self, X, y, w_in, b_in, compute_gradient, alpha, num_iters):\n",
    "    \n",
    "        w = copy.deepcopy(w_in)\n",
    "        b = b_in\n",
    "\n",
    "        for i in range(num_iters):\n",
    "            dw , db = compute_gradient(X, y, w, b)\n",
    "            w = w - alpha * dw               \n",
    "            b = b - alpha * db \n",
    "        return w, b\n",
    "\n",
    "    def fit(self, X_train, y_train, epoch, alpha):\n",
    "       self.w_final, self.b_final = self.__perform_gradient_descent(\n",
    "                            X_train, \n",
    "                            y_train, \n",
    "                            self.initial_w, \n",
    "                            self.initial_b,\n",
    "                            self.__compute_gradient, \n",
    "                            alpha, \n",
    "                            epoch)\n",
    "    \n",
    "    def predict(self, house_data):\n",
    "        return np.dot(house_data, self.w_final) + self.b_final\n"
   ]
  },
  {
   "cell_type": "code",
   "execution_count": 87,
   "metadata": {},
   "outputs": [
    {
     "name": "stdout",
     "output_type": "stream",
     "text": [
      "Predicted cost of the house with 952 sqft and 2 bedrooms and 1 floors and 65 years = 232.92627896281834\n"
     ]
    }
   ],
   "source": [
    "iterations = 1000\n",
    "alpha = 5.0e-7\n",
    "\n",
    "model = LinearRegression()\n",
    "model.fit(X_train, y_train, epoch=iterations, alpha= alpha)\n",
    "\n",
    "input = X_train[0]\n",
    "prediction = model.predict(input)\n",
    "input = X_train[0].astype(int)\n",
    "print(f\"\"\"Predicted cost of the house with {input[0]} sqft and {input[1]} bedrooms and {input[2]} floors and {input[3]} years = {prediction}\"\"\")"
   ]
  }
 ],
 "metadata": {
  "kernelspec": {
   "display_name": "Python 3",
   "language": "python",
   "name": "python3"
  },
  "language_info": {
   "codemirror_mode": {
    "name": "ipython",
    "version": 3
   },
   "file_extension": ".py",
   "mimetype": "text/x-python",
   "name": "python",
   "nbconvert_exporter": "python",
   "pygments_lexer": "ipython3",
   "version": "3.12.5"
  }
 },
 "nbformat": 4,
 "nbformat_minor": 2
}
